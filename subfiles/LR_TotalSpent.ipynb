{
 "cells": [
  {
   "cell_type": "code",
   "execution_count": 16,
   "metadata": {},
   "outputs": [
    {
     "data": {
      "text/html": [
       "<div>\n",
       "<style scoped>\n",
       "    .dataframe tbody tr th:only-of-type {\n",
       "        vertical-align: middle;\n",
       "    }\n",
       "\n",
       "    .dataframe tbody tr th {\n",
       "        vertical-align: top;\n",
       "    }\n",
       "\n",
       "    .dataframe thead th {\n",
       "        text-align: right;\n",
       "    }\n",
       "</style>\n",
       "<table border=\"1\" class=\"dataframe\">\n",
       "  <thead>\n",
       "    <tr style=\"text-align: right;\">\n",
       "      <th></th>\n",
       "      <th>Date</th>\n",
       "      <th>Time</th>\n",
       "      <th>Race</th>\n",
       "      <th>Gender</th>\n",
       "      <th>Body_Size</th>\n",
       "      <th>Age_Range</th>\n",
       "      <th>With_Kids</th>\n",
       "      <th>Kids_Category</th>\n",
       "      <th>Basket_Size</th>\n",
       "      <th>Basket_colour</th>\n",
       "      <th>...</th>\n",
       "      <th>buyDrinks</th>\n",
       "      <th>TotalSpent_RM</th>\n",
       "      <th>latitude</th>\n",
       "      <th>longitude</th>\n",
       "      <th>Num_of_Baskets</th>\n",
       "      <th>weather</th>\n",
       "      <th>Day</th>\n",
       "      <th>Month</th>\n",
       "      <th>Year</th>\n",
       "      <th>rwi</th>\n",
       "    </tr>\n",
       "  </thead>\n",
       "  <tbody>\n",
       "    <tr>\n",
       "      <th>0</th>\n",
       "      <td>19/10/2015</td>\n",
       "      <td>Evening</td>\n",
       "      <td>malay</td>\n",
       "      <td>male</td>\n",
       "      <td>moderate</td>\n",
       "      <td>28.0</td>\n",
       "      <td>yes</td>\n",
       "      <td>young</td>\n",
       "      <td>big</td>\n",
       "      <td>red</td>\n",
       "      <td>...</td>\n",
       "      <td>2.0</td>\n",
       "      <td>9.0</td>\n",
       "      <td>2.912316</td>\n",
       "      <td>101.657948</td>\n",
       "      <td>1.0</td>\n",
       "      <td>Clear</td>\n",
       "      <td>Monday</td>\n",
       "      <td>October</td>\n",
       "      <td>2015</td>\n",
       "      <td>0.912</td>\n",
       "    </tr>\n",
       "    <tr>\n",
       "      <th>1</th>\n",
       "      <td>19/10/2015</td>\n",
       "      <td>Evening</td>\n",
       "      <td>malay</td>\n",
       "      <td>female</td>\n",
       "      <td>moderate</td>\n",
       "      <td>30.0</td>\n",
       "      <td>no</td>\n",
       "      <td>no_kids</td>\n",
       "      <td>big</td>\n",
       "      <td>blue</td>\n",
       "      <td>...</td>\n",
       "      <td>2.0</td>\n",
       "      <td>13.0</td>\n",
       "      <td>2.935533</td>\n",
       "      <td>101.737170</td>\n",
       "      <td>1.0</td>\n",
       "      <td>Clear</td>\n",
       "      <td>Monday</td>\n",
       "      <td>October</td>\n",
       "      <td>2015</td>\n",
       "      <td>0.817</td>\n",
       "    </tr>\n",
       "    <tr>\n",
       "      <th>2</th>\n",
       "      <td>19/10/2015</td>\n",
       "      <td>Evening</td>\n",
       "      <td>indian</td>\n",
       "      <td>male</td>\n",
       "      <td>thin</td>\n",
       "      <td>51.0</td>\n",
       "      <td>no</td>\n",
       "      <td>no_kids</td>\n",
       "      <td>small</td>\n",
       "      <td>black</td>\n",
       "      <td>...</td>\n",
       "      <td>2.0</td>\n",
       "      <td>16.0</td>\n",
       "      <td>2.949924</td>\n",
       "      <td>101.637069</td>\n",
       "      <td>1.0</td>\n",
       "      <td>Clear</td>\n",
       "      <td>Monday</td>\n",
       "      <td>October</td>\n",
       "      <td>2015</td>\n",
       "      <td>0.653</td>\n",
       "    </tr>\n",
       "    <tr>\n",
       "      <th>3</th>\n",
       "      <td>19/10/2015</td>\n",
       "      <td>Evening</td>\n",
       "      <td>indian</td>\n",
       "      <td>male</td>\n",
       "      <td>moderate</td>\n",
       "      <td>34.0</td>\n",
       "      <td>no</td>\n",
       "      <td>no_kids</td>\n",
       "      <td>big</td>\n",
       "      <td>blue</td>\n",
       "      <td>...</td>\n",
       "      <td>1.0</td>\n",
       "      <td>13.0</td>\n",
       "      <td>2.903530</td>\n",
       "      <td>101.661249</td>\n",
       "      <td>3.0</td>\n",
       "      <td>Clear</td>\n",
       "      <td>Monday</td>\n",
       "      <td>October</td>\n",
       "      <td>2015</td>\n",
       "      <td>0.912</td>\n",
       "    </tr>\n",
       "    <tr>\n",
       "      <th>4</th>\n",
       "      <td>20/10/2015</td>\n",
       "      <td>Night</td>\n",
       "      <td>indian</td>\n",
       "      <td>male</td>\n",
       "      <td>thin</td>\n",
       "      <td>49.0</td>\n",
       "      <td>no</td>\n",
       "      <td>no_kids</td>\n",
       "      <td>big</td>\n",
       "      <td>blue</td>\n",
       "      <td>...</td>\n",
       "      <td>0.0</td>\n",
       "      <td>16.0</td>\n",
       "      <td>2.951176</td>\n",
       "      <td>101.746526</td>\n",
       "      <td>3.0</td>\n",
       "      <td>Clear</td>\n",
       "      <td>Tuesday</td>\n",
       "      <td>October</td>\n",
       "      <td>2015</td>\n",
       "      <td>0.845</td>\n",
       "    </tr>\n",
       "  </tbody>\n",
       "</table>\n",
       "<p>5 rows × 30 columns</p>\n",
       "</div>"
      ],
      "text/plain": [
       "         Date     Time    Race  Gender Body_Size  Age_Range With_Kids  \\\n",
       "0  19/10/2015  Evening   malay    male  moderate       28.0       yes   \n",
       "1  19/10/2015  Evening   malay  female  moderate       30.0        no   \n",
       "2  19/10/2015  Evening  indian    male      thin       51.0        no   \n",
       "3  19/10/2015  Evening  indian    male  moderate       34.0        no   \n",
       "4  20/10/2015    Night  indian    male      thin       49.0        no   \n",
       "\n",
       "  Kids_Category Basket_Size Basket_colour  ... buyDrinks TotalSpent_RM  \\\n",
       "0         young         big           red  ...       2.0           9.0   \n",
       "1       no_kids         big          blue  ...       2.0          13.0   \n",
       "2       no_kids       small         black  ...       2.0          16.0   \n",
       "3       no_kids         big          blue  ...       1.0          13.0   \n",
       "4       no_kids         big          blue  ...       0.0          16.0   \n",
       "\n",
       "   latitude   longitude Num_of_Baskets weather      Day    Month  Year    rwi  \n",
       "0  2.912316  101.657948            1.0   Clear   Monday  October  2015  0.912  \n",
       "1  2.935533  101.737170            1.0   Clear   Monday  October  2015  0.817  \n",
       "2  2.949924  101.637069            1.0   Clear   Monday  October  2015  0.653  \n",
       "3  2.903530  101.661249            3.0   Clear   Monday  October  2015  0.912  \n",
       "4  2.951176  101.746526            3.0   Clear  Tuesday  October  2015  0.845  \n",
       "\n",
       "[5 rows x 30 columns]"
      ]
     },
     "execution_count": 16,
     "metadata": {},
     "output_type": "execute_result"
    }
   ],
   "source": [
    "import numpy as np\n",
    "import matplotlib.pyplot as plt\n",
    "import seaborn as sns\n",
    "import pandas as pd\n",
    "from sklearn.model_selection import train_test_split\n",
    "\n",
    "from apyori import apriori\n",
    "\n",
    "import datetime\n",
    "\n",
    "import statsmodels.api as sm\n",
    "\n",
    "from scipy.stats import spearmanr \n",
    "\n",
    "from sklearn.impute import SimpleImputer\n",
    "\n",
    "from scipy.spatial.distance import cdist \n",
    "\n",
    "from sklearn.preprocessing import MinMaxScaler\n",
    "from sklearn.preprocessing import LabelEncoder\n",
    "from boruta import BorutaPy\n",
    "\n",
    "from sklearn.ensemble import RandomForestClassifier\n",
    "from sklearn.tree import DecisionTreeClassifier \n",
    "from sklearn.naive_bayes import GaussianNB\n",
    "\n",
    "from sklearn.metrics import confusion_matrix\n",
    "from sklearn.metrics import accuracy_score, precision_score, recall_score, f1_score\n",
    "from sklearn.metrics import roc_curve\n",
    "from sklearn.metrics import roc_auc_score\n",
    "from sklearn.metrics import precision_recall_curve\n",
    "from sklearn.metrics import classification_report\n",
    "from sklearn.datasets import make_classification\n",
    "from sklearn import linear_model\n",
    "from sklearn.tree import DecisionTreeRegressor\n",
    "from sklearn.svm import SVR\n",
    "from sklearn.metrics import mean_absolute_error\n",
    "from sklearn.metrics import mean_squared_error\n",
    "\n",
    "import joblib\n",
    "from sklearn.metrics import r2_score \n",
    "\n",
    "from math import radians, cos, sin, asin, sqrt\n",
    "\n",
    "imp_df = pd.read_csv('./dataset_w_weather&rwi.csv')\n",
    "imp_df.head(5)"
   ]
  },
  {
   "cell_type": "code",
   "execution_count": 17,
   "metadata": {},
   "outputs": [
    {
     "ename": "AttributeError",
     "evalue": "module 'numpy' has no attribute 'int'",
     "output_type": "error",
     "traceback": [
      "\u001b[0;31m---------------------------------------------------------------------------\u001b[0m",
      "\u001b[0;31mAttributeError\u001b[0m                            Traceback (most recent call last)",
      "\u001b[1;32m/Users/shaun/Documents/MMU-Degree-4th-Sem/DATA-MINING/Project/LR_TotalSpent.ipynb Cell 2\u001b[0m in \u001b[0;36m<cell line: 16>\u001b[0;34m()\u001b[0m\n\u001b[1;32m     <a href='vscode-notebook-cell:/Users/shaun/Documents/MMU-Degree-4th-Sem/DATA-MINING/Project/LR_TotalSpent.ipynb#W1sZmlsZQ%3D%3D?line=13'>14</a>\u001b[0m rf \u001b[39m=\u001b[39m RandomForestClassifier(n_jobs\u001b[39m=\u001b[39m\u001b[39m-\u001b[39m\u001b[39m1\u001b[39m, class_weight\u001b[39m=\u001b[39m\u001b[39m\"\u001b[39m\u001b[39mbalanced\u001b[39m\u001b[39m\"\u001b[39m, max_depth\u001b[39m=\u001b[39m\u001b[39m5\u001b[39m)\n\u001b[1;32m     <a href='vscode-notebook-cell:/Users/shaun/Documents/MMU-Degree-4th-Sem/DATA-MINING/Project/LR_TotalSpent.ipynb#W1sZmlsZQ%3D%3D?line=14'>15</a>\u001b[0m feat_selector \u001b[39m=\u001b[39m BorutaPy(rf, n_estimators\u001b[39m=\u001b[39m\u001b[39m\"\u001b[39m\u001b[39mauto\u001b[39m\u001b[39m\"\u001b[39m, random_state\u001b[39m=\u001b[39m\u001b[39m1\u001b[39m)\n\u001b[0;32m---> <a href='vscode-notebook-cell:/Users/shaun/Documents/MMU-Degree-4th-Sem/DATA-MINING/Project/LR_TotalSpent.ipynb#W1sZmlsZQ%3D%3D?line=15'>16</a>\u001b[0m feat_selector\u001b[39m.\u001b[39;49mfit(X\u001b[39m.\u001b[39;49mvalues, y\u001b[39m.\u001b[39;49mvalues\u001b[39m.\u001b[39;49mravel())\n\u001b[1;32m     <a href='vscode-notebook-cell:/Users/shaun/Documents/MMU-Degree-4th-Sem/DATA-MINING/Project/LR_TotalSpent.ipynb#W1sZmlsZQ%3D%3D?line=16'>17</a>\u001b[0m boruta_score \u001b[39m=\u001b[39m ranking(\u001b[39mlist\u001b[39m(\u001b[39mmap\u001b[39m(\u001b[39mfloat\u001b[39m, feat_selector\u001b[39m.\u001b[39mranking_)), X\u001b[39m.\u001b[39mcolumns, order\u001b[39m=\u001b[39m\u001b[39m-\u001b[39m\u001b[39m1\u001b[39m)\n\u001b[1;32m     <a href='vscode-notebook-cell:/Users/shaun/Documents/MMU-Degree-4th-Sem/DATA-MINING/Project/LR_TotalSpent.ipynb#W1sZmlsZQ%3D%3D?line=17'>18</a>\u001b[0m boruta_score \u001b[39m=\u001b[39m pd\u001b[39m.\u001b[39mDataFrame(\u001b[39mlist\u001b[39m(boruta_score\u001b[39m.\u001b[39mitems()), columns\u001b[39m=\u001b[39m[\u001b[39m'\u001b[39m\u001b[39mFeatures\u001b[39m\u001b[39m'\u001b[39m, \u001b[39m'\u001b[39m\u001b[39mScore\u001b[39m\u001b[39m'\u001b[39m])\n",
      "File \u001b[0;32m~/miniforge3/lib/python3.9/site-packages/boruta/boruta_py.py:201\u001b[0m, in \u001b[0;36mBorutaPy.fit\u001b[0;34m(self, X, y)\u001b[0m\n\u001b[1;32m    188\u001b[0m \u001b[39mdef\u001b[39;00m \u001b[39mfit\u001b[39m(\u001b[39mself\u001b[39m, X, y):\n\u001b[1;32m    189\u001b[0m     \u001b[39m\"\"\"\u001b[39;00m\n\u001b[1;32m    190\u001b[0m \u001b[39m    Fits the Boruta feature selection with the provided estimator.\u001b[39;00m\n\u001b[1;32m    191\u001b[0m \n\u001b[0;32m   (...)\u001b[0m\n\u001b[1;32m    198\u001b[0m \u001b[39m        The target values.\u001b[39;00m\n\u001b[1;32m    199\u001b[0m \u001b[39m    \"\"\"\u001b[39;00m\n\u001b[0;32m--> 201\u001b[0m     \u001b[39mreturn\u001b[39;00m \u001b[39mself\u001b[39;49m\u001b[39m.\u001b[39;49m_fit(X, y)\n",
      "File \u001b[0;32m~/miniforge3/lib/python3.9/site-packages/boruta/boruta_py.py:260\u001b[0m, in \u001b[0;36mBorutaPy._fit\u001b[0;34m(self, X, y)\u001b[0m\n\u001b[1;32m    255\u001b[0m _iter \u001b[39m=\u001b[39m \u001b[39m1\u001b[39m\n\u001b[1;32m    256\u001b[0m \u001b[39m# holds the decision about each feature:\u001b[39;00m\n\u001b[1;32m    257\u001b[0m \u001b[39m# 0  - default state = tentative in original code\u001b[39;00m\n\u001b[1;32m    258\u001b[0m \u001b[39m# 1  - accepted in original code\u001b[39;00m\n\u001b[1;32m    259\u001b[0m \u001b[39m# -1 - rejected in original code\u001b[39;00m\n\u001b[0;32m--> 260\u001b[0m dec_reg \u001b[39m=\u001b[39m np\u001b[39m.\u001b[39mzeros(n_feat, dtype\u001b[39m=\u001b[39mnp\u001b[39m.\u001b[39;49mint)\n\u001b[1;32m    261\u001b[0m \u001b[39m# counts how many times a given feature was more important than\u001b[39;00m\n\u001b[1;32m    262\u001b[0m \u001b[39m# the best of the shadow features\u001b[39;00m\n\u001b[1;32m    263\u001b[0m hit_reg \u001b[39m=\u001b[39m np\u001b[39m.\u001b[39mzeros(n_feat, dtype\u001b[39m=\u001b[39mnp\u001b[39m.\u001b[39mint)\n",
      "File \u001b[0;32m~/miniforge3/lib/python3.9/site-packages/numpy/__init__.py:284\u001b[0m, in \u001b[0;36m__getattr__\u001b[0;34m(attr)\u001b[0m\n\u001b[1;32m    281\u001b[0m     \u001b[39mfrom\u001b[39;00m \u001b[39m.\u001b[39;00m\u001b[39mtesting\u001b[39;00m \u001b[39mimport\u001b[39;00m Tester\n\u001b[1;32m    282\u001b[0m     \u001b[39mreturn\u001b[39;00m Tester\n\u001b[0;32m--> 284\u001b[0m \u001b[39mraise\u001b[39;00m \u001b[39mAttributeError\u001b[39;00m(\u001b[39m\"\u001b[39m\u001b[39mmodule \u001b[39m\u001b[39m{!r}\u001b[39;00m\u001b[39m has no attribute \u001b[39m\u001b[39m\"\u001b[39m\n\u001b[1;32m    285\u001b[0m                      \u001b[39m\"\u001b[39m\u001b[39m{!r}\u001b[39;00m\u001b[39m\"\u001b[39m\u001b[39m.\u001b[39mformat(\u001b[39m__name__\u001b[39m, attr))\n",
      "\u001b[0;31mAttributeError\u001b[0m: module 'numpy' has no attribute 'int'"
     ]
    }
   ],
   "source": [
    "# Feature Selection\n",
    "\n",
    "def ranking(ranks, names, order=1):\n",
    "    minmax = MinMaxScaler()\n",
    "    ranks = minmax.fit_transform(order*np.array([ranks]).T).T[0]\n",
    "    ranks = map(lambda x: round(x,2), ranks)\n",
    "    return dict(zip(names, ranks))\n",
    "  \n",
    "fs_df = imp_df.copy()\n",
    "fs_df = fs_df.apply(LabelEncoder().fit_transform)\n",
    "\n",
    "X = fs_df.drop(['TotalSpent_RM'], axis=1)\n",
    "y = fs_df['TotalSpent_RM']\n",
    "rf = RandomForestClassifier(n_jobs=-1, class_weight=\"balanced\", max_depth=5)\n",
    "feat_selector = BorutaPy(rf, n_estimators=\"auto\", random_state=1)\n",
    "feat_selector.fit(X.values, y.values.ravel())\n",
    "boruta_score = ranking(list(map(float, feat_selector.ranking_)), X.columns, order=-1)\n",
    "boruta_score = pd.DataFrame(list(boruta_score.items()), columns=['Features', 'Score'])\n",
    "boruta_score = boruta_score.sort_values(\"Score\", ascending = False)\n",
    "\n",
    "print('---------Top 10----------')\n",
    "display(boruta_score.head(10))\n",
    "\n",
    "print('---------Bottom 10----------')\n",
    "display(boruta_score.tail(10))\n",
    "\n",
    "sns_boruta_plot = sns.catplot(x=\"Score\", y=\"Features\", data = boruta_score[:10], kind = \"bar\", height=14, aspect=2, palette='coolwarm')\n",
    "plt.title(\"Boruta Top 10 Features\")\n",
    "sns_boruta_plot.figure.savefig('TotalSpent_Boruta.png')\n",
    "\n",
    "pd.DataFrame.to_csv(boruta_score.head(10), 'Baskets_Boruta_Top10.csv')"
   ]
  },
  {
   "cell_type": "code",
   "execution_count": 18,
   "metadata": {},
   "outputs": [
    {
     "name": "stdout",
     "output_type": "stream",
     "text": [
      "(2918, 6)\n",
      "(730, 6)\n"
     ]
    }
   ],
   "source": [
    "mvlrX = imp_df[['rwi', 'TimeSpent_minutes', 'Age_Range', 'Basket_colour', 'Pants_Colour', 'TotalSpent_RM']]\n",
    "mvlrX = mvlrX.apply(LabelEncoder().fit_transform)\n",
    "\n",
    "train = mvlrX.sample(frac=0.8, random_state=1)\n",
    "test = mvlrX.loc[~imp_df.index.isin(train.index)]\n",
    "\n",
    "print(train.shape)\n",
    "print(test.shape)"
   ]
  },
  {
   "cell_type": "code",
   "execution_count": 19,
   "metadata": {},
   "outputs": [
    {
     "name": "stdout",
     "output_type": "stream",
     "text": [
      "coefficients :  [[0.00264566 0.00263506 0.00511742 0.0354202  0.03234649]]\n",
      "Intercept :  [7.10644346]\n"
     ]
    },
    {
     "data": {
      "text/plain": [
       "0.0027555516352542053"
      ]
     },
     "execution_count": 19,
     "metadata": {},
     "output_type": "execute_result"
    }
   ],
   "source": [
    "regr = linear_model.LinearRegression()\n",
    "train_x = np.asanyarray(train.drop(['TotalSpent_RM'], axis=1))\n",
    "train_y = np.asanyarray(train[['TotalSpent_RM']])\n",
    "lm = regr.fit(train_x,train_y)  \n",
    "\n",
    "print (\"coefficients : \",regr.coef_) #Slope\n",
    "print (\"Intercept : \",regr.intercept_)\n",
    "\n",
    "lm.score(train_x,train_y)"
   ]
  },
  {
   "cell_type": "code",
   "execution_count": 20,
   "metadata": {},
   "outputs": [
    {
     "name": "stdout",
     "output_type": "stream",
     "text": [
      "Mean absolute error: 3.70\n",
      "Mean sum of squares (MSE): 18.71\n",
      "R2-score: -372.23\n"
     ]
    }
   ],
   "source": [
    "def get_regression_predictions(input_features,intercept,slope):\n",
    "    predicted_values = input_features*slope + intercept\n",
    "    return predicted_values\n",
    "\n",
    "# Checking various accuracy:\n",
    "from sklearn.metrics import r2_score \n",
    "test_x = np.array(test.drop(['TotalSpent_RM'], axis=1))\n",
    "test_y = np.array(test[['TotalSpent_RM']])\n",
    "test_y_ = regr.predict(test_x)\n",
    "print(\"Mean absolute error: %.2f\" % np.mean(np.absolute(test_y_ - test_y)))\n",
    "print(\"Mean sum of squares (MSE): %.2f\" % np.mean((test_y_ - test_y)** 2))\n",
    "print(\"R2-score: %.2f\" % r2_score(test_y_ , test_y) )"
   ]
  },
  {
   "cell_type": "code",
   "execution_count": 21,
   "metadata": {},
   "outputs": [
    {
     "name": "stdout",
     "output_type": "stream",
     "text": [
      "Predicted value:  [[7.25438067]]\n"
     ]
    }
   ],
   "source": [
    "rwi = 1\n",
    "TimeSpent_minutes = 10\n",
    "Age_Range = 10\n",
    "Basket_colour = 1\n",
    "Pants_Colour = 1\n",
    "\n",
    "custom_input = np.array([rwi, TimeSpent_minutes, Age_Range, Basket_colour, Pants_Colour])\n",
    "\n",
    "predicted_value = lm.predict(custom_input.reshape(1, -1))\n",
    "print(\"Predicted value: \", predicted_value)\n"
   ]
  },
  {
   "cell_type": "code",
   "execution_count": 22,
   "metadata": {},
   "outputs": [
    {
     "data": {
      "text/html": [
       "<table class=\"simpletable\">\n",
       "<caption>OLS Regression Results</caption>\n",
       "<tr>\n",
       "  <th>Dep. Variable:</th>            <td>y</td>        <th>  R-squared (uncentered):</th>      <td>   0.723</td> \n",
       "</tr>\n",
       "<tr>\n",
       "  <th>Model:</th>                   <td>OLS</td>       <th>  Adj. R-squared (uncentered):</th> <td>   0.722</td> \n",
       "</tr>\n",
       "<tr>\n",
       "  <th>Method:</th>             <td>Least Squares</td>  <th>  F-statistic:       </th>          <td>   1518.</td> \n",
       "</tr>\n",
       "<tr>\n",
       "  <th>Date:</th>             <td>Sat, 14 Jan 2023</td> <th>  Prob (F-statistic):</th>           <td>  0.00</td>  \n",
       "</tr>\n",
       "<tr>\n",
       "  <th>Time:</th>                 <td>05:05:34</td>     <th>  Log-Likelihood:    </th>          <td> -8692.9</td> \n",
       "</tr>\n",
       "<tr>\n",
       "  <th>No. Observations:</th>      <td>  2918</td>      <th>  AIC:               </th>          <td>1.740e+04</td>\n",
       "</tr>\n",
       "<tr>\n",
       "  <th>Df Residuals:</th>          <td>  2913</td>      <th>  BIC:               </th>          <td>1.743e+04</td>\n",
       "</tr>\n",
       "<tr>\n",
       "  <th>Df Model:</th>              <td>     5</td>      <th>                     </th>              <td> </td>    \n",
       "</tr>\n",
       "<tr>\n",
       "  <th>Covariance Type:</th>      <td>nonrobust</td>    <th>                     </th>              <td> </td>    \n",
       "</tr>\n",
       "</table>\n",
       "<table class=\"simpletable\">\n",
       "<tr>\n",
       "   <td></td>     <th>coef</th>     <th>std err</th>      <th>t</th>      <th>P>|t|</th>  <th>[0.025</th>    <th>0.975]</th>  \n",
       "</tr>\n",
       "<tr>\n",
       "  <th>x1</th> <td>    0.0240</td> <td>    0.002</td> <td>   12.557</td> <td> 0.000</td> <td>    0.020</td> <td>    0.028</td>\n",
       "</tr>\n",
       "<tr>\n",
       "  <th>x2</th> <td>    0.0547</td> <td>    0.005</td> <td>   10.068</td> <td> 0.000</td> <td>    0.044</td> <td>    0.065</td>\n",
       "</tr>\n",
       "<tr>\n",
       "  <th>x3</th> <td>    0.0777</td> <td>    0.006</td> <td>   12.258</td> <td> 0.000</td> <td>    0.065</td> <td>    0.090</td>\n",
       "</tr>\n",
       "<tr>\n",
       "  <th>x4</th> <td>    0.2620</td> <td>    0.025</td> <td>   10.682</td> <td> 0.000</td> <td>    0.214</td> <td>    0.310</td>\n",
       "</tr>\n",
       "<tr>\n",
       "  <th>x5</th> <td>    0.1661</td> <td>    0.018</td> <td>    9.062</td> <td> 0.000</td> <td>    0.130</td> <td>    0.202</td>\n",
       "</tr>\n",
       "</table>\n",
       "<table class=\"simpletable\">\n",
       "<tr>\n",
       "  <th>Omnibus:</th>       <td>283.355</td> <th>  Durbin-Watson:     </th> <td>   1.923</td>\n",
       "</tr>\n",
       "<tr>\n",
       "  <th>Prob(Omnibus):</th> <td> 0.000</td>  <th>  Jarque-Bera (JB):  </th> <td>  84.058</td>\n",
       "</tr>\n",
       "<tr>\n",
       "  <th>Skew:</th>          <td> 0.003</td>  <th>  Prob(JB):          </th> <td>5.58e-19</td>\n",
       "</tr>\n",
       "<tr>\n",
       "  <th>Kurtosis:</th>      <td> 2.169</td>  <th>  Cond. No.          </th> <td>    26.5</td>\n",
       "</tr>\n",
       "</table><br/><br/>Notes:<br/>[1] R² is computed without centering (uncentered) since the model does not contain a constant.<br/>[2] Standard Errors assume that the covariance matrix of the errors is correctly specified."
      ],
      "text/plain": [
       "<class 'statsmodels.iolib.summary.Summary'>\n",
       "\"\"\"\n",
       "                                 OLS Regression Results                                \n",
       "=======================================================================================\n",
       "Dep. Variable:                      y   R-squared (uncentered):                   0.723\n",
       "Model:                            OLS   Adj. R-squared (uncentered):              0.722\n",
       "Method:                 Least Squares   F-statistic:                              1518.\n",
       "Date:                Sat, 14 Jan 2023   Prob (F-statistic):                        0.00\n",
       "Time:                        05:05:34   Log-Likelihood:                         -8692.9\n",
       "No. Observations:                2918   AIC:                                  1.740e+04\n",
       "Df Residuals:                    2913   BIC:                                  1.743e+04\n",
       "Df Model:                           5                                                  \n",
       "Covariance Type:            nonrobust                                                  \n",
       "==============================================================================\n",
       "                 coef    std err          t      P>|t|      [0.025      0.975]\n",
       "------------------------------------------------------------------------------\n",
       "x1             0.0240      0.002     12.557      0.000       0.020       0.028\n",
       "x2             0.0547      0.005     10.068      0.000       0.044       0.065\n",
       "x3             0.0777      0.006     12.258      0.000       0.065       0.090\n",
       "x4             0.2620      0.025     10.682      0.000       0.214       0.310\n",
       "x5             0.1661      0.018      9.062      0.000       0.130       0.202\n",
       "==============================================================================\n",
       "Omnibus:                      283.355   Durbin-Watson:                   1.923\n",
       "Prob(Omnibus):                  0.000   Jarque-Bera (JB):               84.058\n",
       "Skew:                           0.003   Prob(JB):                     5.58e-19\n",
       "Kurtosis:                       2.169   Cond. No.                         26.5\n",
       "==============================================================================\n",
       "\n",
       "Notes:\n",
       "[1] R² is computed without centering (uncentered) since the model does not contain a constant.\n",
       "[2] Standard Errors assume that the covariance matrix of the errors is correctly specified.\n",
       "\"\"\""
      ]
     },
     "execution_count": 22,
     "metadata": {},
     "output_type": "execute_result"
    }
   ],
   "source": [
    "model = sm.OLS(train_y, train_x).fit()\n",
    "predictions = model.predict(test_x)\n",
    "model.summary ()"
   ]
  },
  {
   "cell_type": "code",
   "execution_count": 23,
   "metadata": {},
   "outputs": [
    {
     "name": "stdout",
     "output_type": "stream",
     "text": [
      "Predicted value:  [3.6576838]\n"
     ]
    }
   ],
   "source": [
    "# make predictions\n",
    "expected = test_y\n",
    "predicted = model.predict(test_x)\n",
    "\n",
    "# make a single prediction\n",
    "rwi = 1.5\n",
    "TimeSpent_minutes = 30\n",
    "Age_Range = 20\n",
    "Basket_colour = 1\n",
    "Pants_Colour = 1\n",
    " \n",
    "custom_input = np.array([rwi, TimeSpent_minutes, Age_Range, Basket_colour, Pants_Colour])\n",
    "predicted_value = model.predict(custom_input.reshape(1, -1))\n",
    "\n",
    "print(\"Predicted value: \", predicted_value)"
   ]
  },
  {
   "cell_type": "code",
   "execution_count": 24,
   "metadata": {},
   "outputs": [
    {
     "data": {
      "image/png": "[encoded data removed]",
      "text/plain": [
       "<Figure size 432x288 with 1 Axes>"
      ]
     },
     "metadata": {
      "needs_background": "light"
     },
     "output_type": "display_data"
    },
    {
     "data": {
      "image/png": "[encoded data removed]",
      "text/plain": [
       "<Figure size 432x288 with 1 Axes>"
      ]
     },
     "metadata": {
      "needs_background": "light"
     },
     "output_type": "display_data"
    }
   ],
   "source": [
    "# plot rwi vs TotalSpent_RM\n",
    "plt.scatter(imp_df['rwi'], imp_df['TotalSpent_RM'], color='blue')\n",
    "plt.xlabel(\"rwi\")\n",
    "plt.ylabel(\"TotalSpent_RM\")\n",
    "plt.show()\n",
    "\n",
    "plt.plot(test_x, test_y, color='blue', linewidth=3)\n",
    "plt.plot(test_x, test_y_, color='red', linewidth=3)\n",
    "plt.xlabel(\"rwi\")\n",
    "plt.ylabel(\"TotalSpent_RM\")\n",
    "plt.show()"
   ]
  },
  {
   "cell_type": "code",
   "execution_count": 25,
   "metadata": {},
   "outputs": [
    {
     "name": "stderr",
     "output_type": "stream",
     "text": [
      "/Users/shaun/miniforge3/lib/python3.9/site-packages/sklearn/utils/validation.py:1141: DataConversionWarning: A column-vector y was passed when a 1d array was expected. Please change the shape of y to (n_samples, ), for example using ravel().\n",
      "  y = column_or_1d(y, warn=True)\n"
     ]
    },
    {
     "name": "stdout",
     "output_type": "stream",
     "text": [
      "Mean Absolute Error: 3.713\n",
      "Mean Squared Error: 18.873\n"
     ]
    }
   ],
   "source": [
    "regressor = SVR(kernel = 'rbf')\n",
    "\n",
    "regressor.fit(train_x, train_y)\n",
    "y_pred = regressor.predict(test_x)\n",
    "\n",
    "print(\"Mean Absolute Error: {:.3f}\".format(mean_absolute_error(test_y, y_pred)))\n",
    "print(\"Mean Squared Error: {:.3f}\".format(mean_squared_error(test_y, y_pred)))"
   ]
  },
  {
   "cell_type": "code",
   "execution_count": 26,
   "metadata": {},
   "outputs": [
    {
     "name": "stderr",
     "output_type": "stream",
     "text": [
      "/Users/shaun/miniforge3/lib/python3.9/site-packages/sklearn/utils/validation.py:1141: DataConversionWarning: A column-vector y was passed when a 1d array was expected. Please change the shape of y to (n_samples, ), for example using ravel().\n",
      "  y = column_or_1d(y, warn=True)\n",
      "/Users/shaun/miniforge3/lib/python3.9/site-packages/sklearn/utils/validation.py:1141: DataConversionWarning: A column-vector y was passed when a 1d array was expected. Please change the shape of y to (n_samples, ), for example using ravel().\n",
      "  y = column_or_1d(y, warn=True)\n",
      "/Users/shaun/miniforge3/lib/python3.9/site-packages/sklearn/utils/validation.py:1141: DataConversionWarning: A column-vector y was passed when a 1d array was expected. Please change the shape of y to (n_samples, ), for example using ravel().\n",
      "  y = column_or_1d(y, warn=True)\n",
      "/Users/shaun/miniforge3/lib/python3.9/site-packages/sklearn/utils/validation.py:1141: DataConversionWarning: A column-vector y was passed when a 1d array was expected. Please change the shape of y to (n_samples, ), for example using ravel().\n",
      "  y = column_or_1d(y, warn=True)\n"
     ]
    },
    {
     "data": {
      "image/png": "[encoded data removed]",
      "text/plain": [
       "<Figure size 432x288 with 1 Axes>"
      ]
     },
     "metadata": {
      "needs_background": "light"
     },
     "output_type": "display_data"
    }
   ],
   "source": [
    "gammas = [0.1, 1, 10, 100]\n",
    "svr_mae = [] \n",
    "for gamma in gammas:\n",
    "    svr = SVR(kernel = 'rbf', gamma = gamma)\n",
    "    svr.fit(train_x, train_y)\n",
    "    svr_y_pred = svr.predict(test_x)\n",
    "    svr_mae.append(mean_absolute_error(test_y, svr_y_pred))\n",
    "    \n",
    "plt.plot(gammas, svr_mae)\n",
    "plt.xlabel('gamma')\n",
    "plt.ylabel('MAE')\n",
    "plt.title('gamma vs MAE').figure.savefig('gamma_vs_mae.png') \n",
    "plt.show()"
   ]
  },
  {
   "cell_type": "code",
   "execution_count": 27,
   "metadata": {},
   "outputs": [
    {
     "name": "stderr",
     "output_type": "stream",
     "text": [
      "/Users/shaun/miniforge3/lib/python3.9/site-packages/sklearn/utils/validation.py:1141: DataConversionWarning: A column-vector y was passed when a 1d array was expected. Please change the shape of y to (n_samples, ), for example using ravel().\n",
      "  y = column_or_1d(y, warn=True)\n",
      "/Users/shaun/miniforge3/lib/python3.9/site-packages/sklearn/utils/validation.py:1141: DataConversionWarning: A column-vector y was passed when a 1d array was expected. Please change the shape of y to (n_samples, ), for example using ravel().\n",
      "  y = column_or_1d(y, warn=True)\n",
      "/Users/shaun/miniforge3/lib/python3.9/site-packages/sklearn/utils/validation.py:1141: DataConversionWarning: A column-vector y was passed when a 1d array was expected. Please change the shape of y to (n_samples, ), for example using ravel().\n",
      "  y = column_or_1d(y, warn=True)\n",
      "/Users/shaun/miniforge3/lib/python3.9/site-packages/sklearn/utils/validation.py:1141: DataConversionWarning: A column-vector y was passed when a 1d array was expected. Please change the shape of y to (n_samples, ), for example using ravel().\n",
      "  y = column_or_1d(y, warn=True)\n",
      "/Users/shaun/miniforge3/lib/python3.9/site-packages/sklearn/utils/validation.py:1141: DataConversionWarning: A column-vector y was passed when a 1d array was expected. Please change the shape of y to (n_samples, ), for example using ravel().\n",
      "  y = column_or_1d(y, warn=True)\n"
     ]
    },
    {
     "data": {
      "image/png": "[encoded data removed]",
      "text/plain": [
       "<Figure size 432x288 with 1 Axes>"
      ]
     },
     "metadata": {
      "needs_background": "light"
     },
     "output_type": "display_data"
    }
   ],
   "source": [
    "cs = [0.1, 1, 10, 100, 1000]\n",
    "svr_mae = [] \n",
    "for c in cs:\n",
    "    svr = SVR(kernel = 'rbf', C=c, gamma = 'auto')\n",
    "    svr.fit(train_x, train_y)\n",
    "    svr_y_pred = svr.predict(test_x)\n",
    "    svr_mae.append(mean_absolute_error(test_y, svr_y_pred))\n",
    "    \n",
    "plt.plot(cs, svr_mae)\n",
    "plt.xlabel('C')\n",
    "plt.ylabel('MAE')\n",
    "plt.title('C vs MAE').figure.savefig('c_vs_mae.png') \n",
    "plt.show()"
   ]
  }
 ],
 "metadata": {
  "kernelspec": {
   "display_name": "base",
   "language": "python",
   "name": "python3"
  },
  "language_info": {
   "codemirror_mode": {
    "name": "ipython",
    "version": 3
   },
   "file_extension": ".py",
   "mimetype": "text/x-python",
   "name": "python",
   "nbconvert_exporter": "python",
   "pygments_lexer": "ipython3",
   "version": "3.9.10 | packaged by conda-forge | (main, Feb  1 2022, 21:27:43) \n[Clang 11.1.0 ]"
  },
  "orig_nbformat": 4,
  "vscode": {
   "interpreter": {
    "hash": "f50f518e30a1733e8e8c8b608de131219c9974acb0d02ce13c65eb2a815a608c"
   }
  }
 },
 "nbformat": 4,
 "nbformat_minor": 2
}
